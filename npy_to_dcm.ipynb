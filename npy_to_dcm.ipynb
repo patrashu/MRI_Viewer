{
 "cells": [
  {
   "cell_type": "code",
   "execution_count": 156,
   "metadata": {},
   "outputs": [],
   "source": [
    "import numpy as np\n",
    "import pydicom\n",
    "from pydicom.dataset import FileMetaDataset, Dataset"
   ]
  },
  {
   "cell_type": "code",
   "execution_count": 157,
   "metadata": {},
   "outputs": [],
   "source": [
    "def npy_to_dcm(npy_array, output_dcm_path, patient_name=\"Anonymous\", study_description=\"MRI Study\"):\n",
    "    # DICOM 데이터셋 생성\n",
    "    ds = Dataset()\n",
    "\n",
    "    # DICOM 메타데이터 설정\n",
    "    meta = FileMetaDataset()\n",
    "    meta.TransferSyntaxUID = pydicom.uid.ImplicitVRLittleEndian\n",
    "    ds.file_meta = meta\n",
    "\n",
    "    # 필수 필드 설정\n",
    "    ds.PatientName = patient_name\n",
    "    ds.StudyDescription = study_description\n",
    "    ds.Rows, ds.Columns = npy_array.shape[1:]\n",
    "    ds.NumberOfFrames = npy_array.shape[0]\n",
    "    ds.ImagePositionPatient = [0.0, 0.0, 0.0]  # Assuming slices along the z-axis\n",
    "    ds.ImageOrientationPatient = [1.0, 0.0, 0.0, 0.0, 1.0, 0.0]\n",
    "    ds.BitsAllocated = 16\n",
    "    ds.BitsStored = 16\n",
    "    ds.HighBit = 15\n",
    "    ds.PixelRepresentation = 1\n",
    "    ds.SamplesPerPixel = 1\n",
    "    ds.PhotometricInterpretation = \"MONOCHROME2\"\n",
    "\n",
    "    ds.PlanarConfiguration = 1  # 0 또는 1 중 선택\n",
    "    \n",
    "    # Series-specific information\n",
    "    ds.SeriesDescription = \"44 Channel MRI Series\"\n",
    "    ds.Modality = \"MR\"\n",
    "\n",
    "    # 이미지 데이터 설정\n",
    "    ds.PixelData = npy_array.astype(np.uint16).tobytes()\n",
    "\n",
    "    # 저장\n",
    "    ds.save_as(output_dcm_path)\n",
    "    print(f\"Conversion complete. DICOM file saved at: {output_dcm_path}\")\n"
   ]
  },
  {
   "cell_type": "code",
   "execution_count": 161,
   "metadata": {},
   "outputs": [
    {
     "name": "stdout",
     "output_type": "stream",
     "text": [
      "Conversion complete. DICOM file saved at: output_dicom.dcm\n"
     ]
    }
   ],
   "source": [
    "raw_path = \"C:/Users/zeroone/Downloads/raw_dataset/train/axial/0000.npy\"\n",
    "raw_np_img = np.load(raw_path)\n",
    "\n",
    "# 예시: .dcm 파일로 변환 및 저장\n",
    "output_dcm_path = \"output_dicom.dcm\"\n",
    "npy_to_dcm(raw_np_img, output_dcm_path)"
   ]
  },
  {
   "cell_type": "code",
   "execution_count": 162,
   "metadata": {},
   "outputs": [
    {
     "name": "stdout",
     "output_type": "stream",
     "text": [
      "DICOM Information:\n",
      "Patient Name: Anonymous\n",
      "Study Description: MRI Study\n",
      "Rows: 256\n",
      "Columns: 256\n",
      "Samples Per Pixel: 1\n"
     ]
    }
   ],
   "source": [
    "import pydicom\n",
    "\n",
    "def read_dicom_info(dicom_file_path):\n",
    "    ds = pydicom.dcmread(dicom_file_path, force=True)\n",
    "    \n",
    "    print(\"DICOM Information:\")\n",
    "    print(f\"Patient Name: {ds.PatientName}\")\n",
    "    print(f\"Study Description: {ds.StudyDescription}\")\n",
    "    print(f\"Rows: {ds.Rows}\")\n",
    "    print(f\"Columns: {ds.Columns}\")\n",
    "    print(f\"Samples Per Pixel: {ds.SamplesPerPixel}\")\n",
    "    # 필요한 다른 속성들을 추가로 출력할 수 있습니다.\n",
    "\n",
    "# 예시: .dcm 파일 읽기\n",
    "dicom_file_path = \"output_dicom.dcm\"  # 변환된 DICOM 파일의 경로로 수정\n",
    "read_dicom_info(dicom_file_path)"
   ]
  },
  {
   "cell_type": "code",
   "execution_count": 163,
   "metadata": {},
   "outputs": [],
   "source": [
    "def dicom_to_numpy(dicom_file_path):\n",
    "    # DICOM 파일 읽기\n",
    "    ds = pydicom.dcmread(dicom_file_path, force=True)\n",
    "\n",
    "    # DICOM 데이터를 NumPy 배열로 변환\n",
    "    numpy_array = ds.pixel_array\n",
    "\n",
    "    return numpy_array"
   ]
  },
  {
   "cell_type": "code",
   "execution_count": 164,
   "metadata": {},
   "outputs": [
    {
     "name": "stdout",
     "output_type": "stream",
     "text": [
      "NumPy Array Shape: (44, 256, 256)\n",
      "NumPy Array Data Type: uint8\n"
     ]
    }
   ],
   "source": [
    "dicom_file_path = \"output_dicom.dcm\"\n",
    "\n",
    "# DICOM 파일을 NumPy 배열로 변환\n",
    "numpy_data = dicom_to_numpy(dicom_file_path)\n",
    "numpy_data = numpy_data.astype(np.uint8)\n",
    "\n",
    "# NumPy 배열 사용 예시\n",
    "print(\"NumPy Array Shape:\", numpy_data.shape)\n",
    "print(\"NumPy Array Data Type:\", numpy_data.dtype)\n",
    "np.save(\"restored_np_img.npy\", numpy_data)"
   ]
  },
  {
   "cell_type": "code",
   "execution_count": null,
   "metadata": {},
   "outputs": [],
   "source": [
    "import matplotlib.pyplot as plt\n",
    "\n",
    "for i in range(3):\n",
    "    plt.imshow(numpy_data[i], cmap=\"gray\")\n",
    "    plt.title(f\"Slice {i}\")\n",
    "    plt.axis(\"off\")\n",
    "    plt.show()"
   ]
  }
 ],
 "metadata": {
  "kernelspec": {
   "display_name": ".venv",
   "language": "python",
   "name": "python3"
  },
  "language_info": {
   "codemirror_mode": {
    "name": "ipython",
    "version": 3
   },
   "file_extension": ".py",
   "mimetype": "text/x-python",
   "name": "python",
   "nbconvert_exporter": "python",
   "pygments_lexer": "ipython3",
   "version": "3.10.10"
  }
 },
 "nbformat": 4,
 "nbformat_minor": 2
}
